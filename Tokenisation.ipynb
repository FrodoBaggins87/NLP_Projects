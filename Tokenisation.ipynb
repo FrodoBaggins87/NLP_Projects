{
  "nbformat": 4,
  "nbformat_minor": 0,
  "metadata": {
    "colab": {
      "provenance": [],
      "authorship_tag": "ABX9TyM1Lb1s0iyeBc5MM5gC1l0j",
      "include_colab_link": true
    },
    "kernelspec": {
      "name": "python3",
      "display_name": "Python 3"
    },
    "language_info": {
      "name": "python"
    }
  },
  "cells": [
    {
      "cell_type": "markdown",
      "metadata": {
        "id": "view-in-github",
        "colab_type": "text"
      },
      "source": [
        "<a href=\"https://colab.research.google.com/github/FrodoBaggins87/NLP_Projects/blob/main/Tokenisation.ipynb\" target=\"_parent\"><img src=\"https://colab.research.google.com/assets/colab-badge.svg\" alt=\"Open In Colab\"/></a>"
      ]
    },
    {
      "cell_type": "markdown",
      "source": [
        "##Imports"
      ],
      "metadata": {
        "id": "wZWPd27Qj-bQ"
      }
    },
    {
      "cell_type": "code",
      "source": [
        "import tensorflow as tf\n",
        "from tensorflow import keras\n",
        "from tensorflow.keras.preprocessing.text import Tokenizer"
      ],
      "metadata": {
        "id": "3QFP0H6BkHye"
      },
      "execution_count": 1,
      "outputs": []
    },
    {
      "cell_type": "markdown",
      "source": [
        "##Make List of Sentences to Tokenize"
      ],
      "metadata": {
        "id": "9WwJj9_5kgiM"
      }
    },
    {
      "cell_type": "code",
      "source": [
        "sentences=[\n",
        "    'The fluorescent pineapple danced with a squeaky rubber duck while reciting Shakespearean sonnets to a bewildered cat wearing a monocle.',\n",
        "    'A neon banana serenaded a perplexed hamster as it tap-danced on a rainbow trampoline.'\n",
        "    'A neon banana serenaded a perplexed hamster as it tap-danced on a rainbow trampoline!!!' #3rd sentence is to show that it doesnt treat trampoline!!! as a separate token. Tokenizer knows its the same word.\n",
        "]"
      ],
      "metadata": {
        "id": "p4GTQfr0kohF"
      },
      "execution_count": 6,
      "outputs": []
    },
    {
      "cell_type": "markdown",
      "source": [
        "##Tokenize"
      ],
      "metadata": {
        "id": "iYE224ZylWq-"
      }
    },
    {
      "cell_type": "code",
      "source": [
        "#Make tokenizer object\n",
        "tokenizer=Tokenizer(num_words=100) #num_words gives the number of most frequent words in a text to tokenize, so here 100 most frequent words will be tokenized from the text\n",
        "#tokenize the sentences\n",
        "tokenizer.fit_on_texts(sentences)\n",
        "#give the word index\n",
        "word_index=tokenizer.word_index\n",
        "#print word index dictionary\n",
        "print(word_index)\n",
        "#print type of word index\n",
        "print(type(word_index))"
      ],
      "metadata": {
        "colab": {
          "base_uri": "https://localhost:8080/"
        },
        "id": "Flqxv3V1lX9e",
        "outputId": "8f2f8265-1982-4892-e5f1-5c1d6299843f"
      },
      "execution_count": 7,
      "outputs": [
        {
          "output_type": "stream",
          "name": "stdout",
          "text": [
            "{'a': 1, 'danced': 2, 'neon': 3, 'banana': 4, 'serenaded': 5, 'perplexed': 6, 'hamster': 7, 'as': 8, 'it': 9, 'tap': 10, 'on': 11, 'rainbow': 12, 'trampoline': 13, 'the': 14, 'fluorescent': 15, 'pineapple': 16, 'with': 17, 'squeaky': 18, 'rubber': 19, 'duck': 20, 'while': 21, 'reciting': 22, 'shakespearean': 23, 'sonnets': 24, 'to': 25, 'bewildered': 26, 'cat': 27, 'wearing': 28, 'monocle': 29}\n",
            "<class 'dict'>\n"
          ]
        }
      ]
    }
  ]
}