{
  "nbformat": 4,
  "nbformat_minor": 0,
  "metadata": {
    "colab": {
      "provenance": [],
      "authorship_tag": "ABX9TyNWLiW6edrX/2nLHPQ7cOqs",
      "include_colab_link": true
    },
    "kernelspec": {
      "name": "python3",
      "display_name": "Python 3"
    },
    "language_info": {
      "name": "python"
    }
  },
  "cells": [
    {
      "cell_type": "markdown",
      "metadata": {
        "id": "view-in-github",
        "colab_type": "text"
      },
      "source": [
        "<a href=\"https://colab.research.google.com/github/FrodoBaggins87/NLP_Projects/blob/main/Tokenisation.ipynb\" target=\"_parent\"><img src=\"https://colab.research.google.com/assets/colab-badge.svg\" alt=\"Open In Colab\"/></a>"
      ]
    },
    {
      "cell_type": "markdown",
      "source": [
        "##Imports"
      ],
      "metadata": {
        "id": "wZWPd27Qj-bQ"
      }
    },
    {
      "cell_type": "code",
      "source": [
        "import tensorflow as tf\n",
        "from tensorflow import keras\n",
        "from tensorflow.keras.preprocessing.text import Tokenizer\n",
        "from tensorflow.keras.preprocessing.sequence import pad_sequences"
      ],
      "metadata": {
        "id": "3QFP0H6BkHye"
      },
      "execution_count": 1,
      "outputs": []
    },
    {
      "cell_type": "markdown",
      "source": [
        "##Make List of Sentences to Tokenize"
      ],
      "metadata": {
        "id": "9WwJj9_5kgiM"
      }
    },
    {
      "cell_type": "code",
      "source": [
        "sentences=[\n",
        "    'The fluorescent pineapple danced with a squeaky rubber duck while reciting Shakespearean sonnets to a bewildered cat wearing a monocle.',\n",
        "    'A neon banana serenaded a perplexed hamster as it tap-danced on a rainbow trampoline.'\n",
        "    'A neon banana serenaded a perplexed hamster as it tap-danced on a rainbow trampoline!!!' #3rd sentence is to show that it doesnt treat trampoline!!! as a separate token. Tokenizer knows its the same word.\n",
        "]"
      ],
      "metadata": {
        "id": "p4GTQfr0kohF"
      },
      "execution_count": 2,
      "outputs": []
    },
    {
      "cell_type": "markdown",
      "source": [
        "##Tokenize words"
      ],
      "metadata": {
        "id": "iYE224ZylWq-"
      }
    },
    {
      "cell_type": "code",
      "source": [
        "#Make tokenizer object\n",
        "tokenizer=Tokenizer(num_words=100,#num_words gives the number of most frequent words in a text to tokenize, so here 100 most frequent words will be tokenized from the text\n",
        "                    oov_token=\"<OOV>\") #using OOV to have value for words not available in vocabulary (oov from Out Of Vocabulary, using angle brackets as they less likely to appear in a sentence)\n",
        "#tokenize the sentences\n",
        "tokenizer.fit_on_texts(sentences)\n",
        "#give the word index\n",
        "word_index=tokenizer.word_index\n",
        "#print word index dictionary\n",
        "print(word_index)\n",
        "#print type of word index\n",
        "print(type(word_index))"
      ],
      "metadata": {
        "colab": {
          "base_uri": "https://localhost:8080/"
        },
        "id": "Flqxv3V1lX9e",
        "outputId": "c174a92d-5ac3-4da1-e6bd-cf3b8ec3c6ff"
      },
      "execution_count": 3,
      "outputs": [
        {
          "output_type": "stream",
          "name": "stdout",
          "text": [
            "{'a': 1, 'danced': 2, 'neon': 3, 'banana': 4, 'serenaded': 5, 'perplexed': 6, 'hamster': 7, 'as': 8, 'it': 9, 'tap': 10, 'on': 11, 'rainbow': 12, 'trampoline': 13, 'the': 14, 'fluorescent': 15, 'pineapple': 16, 'with': 17, 'squeaky': 18, 'rubber': 19, 'duck': 20, 'while': 21, 'reciting': 22, 'shakespearean': 23, 'sonnets': 24, 'to': 25, 'bewildered': 26, 'cat': 27, 'wearing': 28, 'monocle': 29}\n",
            "<class 'dict'>\n"
          ]
        }
      ]
    },
    {
      "cell_type": "markdown",
      "source": [
        "##Tokenize Sentences"
      ],
      "metadata": {
        "id": "COCRQ7US3i2i"
      }
    },
    {
      "cell_type": "code",
      "source": [
        "sequences=tokenizer.texts_to_sequences(sentences)\n",
        "print(sequences)"
      ],
      "metadata": {
        "colab": {
          "base_uri": "https://localhost:8080/"
        },
        "id": "KyAMQsR23lY4",
        "outputId": "abfc3b5a-74ea-4fd5-d15b-10c62265a40b"
      },
      "execution_count": 4,
      "outputs": [
        {
          "output_type": "stream",
          "name": "stdout",
          "text": [
            "[[14, 15, 16, 2, 17, 1, 18, 19, 20, 21, 22, 23, 24, 25, 1, 26, 27, 28, 1, 29], [1, 3, 4, 5, 1, 6, 7, 8, 9, 10, 2, 11, 1, 12, 13, 1, 3, 4, 5, 1, 6, 7, 8, 9, 10, 2, 11, 1, 12, 13]]\n"
          ]
        }
      ]
    },
    {
      "cell_type": "markdown",
      "source": [
        "##Pad Sequences"
      ],
      "metadata": {
        "id": "VbrB8a4N5g_Y"
      }
    },
    {
      "cell_type": "code",
      "source": [
        "padded_sequences=pad_sequences(sequences, maxlen=10, padding='post', truncating='post') #Padding is used to make length of each sentence the same\n",
        "print(padded_sequences)"
      ],
      "metadata": {
        "colab": {
          "base_uri": "https://localhost:8080/"
        },
        "id": "VCqXAfyv5jDJ",
        "outputId": "27275a93-3bd2-40a6-93c1-3249a6769c91"
      },
      "execution_count": 5,
      "outputs": [
        {
          "output_type": "stream",
          "name": "stdout",
          "text": [
            "[[14 15 16  2 17  1 18 19 20 21]\n",
            " [ 1  3  4  5  1  6  7  8  9 10]]\n"
          ]
        }
      ]
    }
  ]
}